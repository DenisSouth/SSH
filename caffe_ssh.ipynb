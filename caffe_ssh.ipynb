{
  "nbformat": 4,
  "nbformat_minor": 0,
  "metadata": {
    "colab": {
      "name": "caffe_ssh.ipynb",
      "version": "0.3.2",
      "provenance": []
    },
    "kernelspec": {
      "name": "python2",
      "display_name": "Python 2"
    },
    "accelerator": "GPU"
  },
  "cells": [
    {
      "metadata": {
        "id": "ei-0OCijXaLo",
        "colab_type": "text"
      },
      "cell_type": "markdown",
      "source": [
        "## Set runtime python2 with GPU"
      ]
    },
    {
      "metadata": {
        "colab_type": "code",
        "id": "8AXLW9w2Wfa2",
        "colab": {}
      },
      "cell_type": "code",
      "source": [
        "import os\n",
        "import shutil"
      ],
      "execution_count": 0,
      "outputs": []
    },
    {
      "metadata": {
        "colab_type": "text",
        "id": "PXc7Eprjt5vA"
      },
      "cell_type": "markdown",
      "source": [
        "## Clone the repository"
      ]
    },
    {
      "metadata": {
        "colab_type": "code",
        "id": "DxjmcpVMXD8L",
        "colab": {}
      },
      "cell_type": "code",
      "source": [
        "!git clone --recursive https://github.com/mahyarnajibi/SSH.git"
      ],
      "execution_count": 0,
      "outputs": []
    },
    {
      "metadata": {
        "colab_type": "text",
        "id": "BjXu676dt_zR"
      },
      "cell_type": "markdown",
      "source": [
        "## Installing dependencies"
      ]
    },
    {
      "metadata": {
        "colab_type": "code",
        "id": "eNfZ5hIRYowP",
        "colab": {}
      },
      "cell_type": "code",
      "source": [
        "!apt-get install libprotobuf-dev libleveldb-dev libsnappy-dev libopencv-dev libhdf5-serial-dev protobuf-compiler"
      ],
      "execution_count": 0,
      "outputs": []
    },
    {
      "metadata": {
        "colab_type": "code",
        "id": "yYY6L5JmZdav",
        "colab": {}
      },
      "cell_type": "code",
      "source": [
        "!apt-get install --no-install-recommends libboost-all-dev"
      ],
      "execution_count": 0,
      "outputs": []
    },
    {
      "metadata": {
        "colab_type": "code",
        "id": "2eZa7PSXZKPG",
        "colab": {}
      },
      "cell_type": "code",
      "source": [
        "!apt-get install libgflags-dev libgoogle-glog-dev liblmdb-dev libhdf5-serial-dev"
      ],
      "execution_count": 0,
      "outputs": []
    },
    {
      "metadata": {
        "colab_type": "code",
        "id": "gycXDs1jaCL4",
        "colab": {}
      },
      "cell_type": "code",
      "source": [
        "!apt-get install libhdf5-dev libhdf5-serial-dev"
      ],
      "execution_count": 0,
      "outputs": []
    },
    {
      "metadata": {
        "colab_type": "code",
        "id": "euam2ijteX3t",
        "colab": {}
      },
      "cell_type": "code",
      "source": [
        "!apt install libnccl2 libnccl-dev"
      ],
      "execution_count": 0,
      "outputs": []
    },
    {
      "metadata": {
        "colab_type": "code",
        "id": "0Nm2RX0QqJv2",
        "colab": {}
      },
      "cell_type": "code",
      "source": [
        "!apt-get install libopencv-dev"
      ],
      "execution_count": 0,
      "outputs": []
    },
    {
      "metadata": {
        "colab_type": "text",
        "id": "AkIyKf27uCHO"
      },
      "cell_type": "markdown",
      "source": [
        "## Make hdf5 links for caffe sees them\n",
        "\n"
      ]
    },
    {
      "metadata": {
        "colab_type": "code",
        "id": "PcvCJ1CwmhqF",
        "colab": {}
      },
      "cell_type": "code",
      "source": [
        "os.chdir('/usr/lib/x86_64-linux-gnu')"
      ],
      "execution_count": 0,
      "outputs": []
    },
    {
      "metadata": {
        "colab_type": "code",
        "id": "dX_r3jfCmP-e",
        "colab": {}
      },
      "cell_type": "code",
      "source": [
        "!ln -s libhdf5_serial.so.100.0.1 libhdf5.so"
      ],
      "execution_count": 0,
      "outputs": []
    },
    {
      "metadata": {
        "colab_type": "code",
        "id": "jjymWD0gmnaB",
        "colab": {}
      },
      "cell_type": "code",
      "source": [
        "!ln -s libhdf5_serial_hl.so.100.0.0 libhdf5_hl.so"
      ],
      "execution_count": 0,
      "outputs": []
    },
    {
      "metadata": {
        "colab_type": "text",
        "id": "1E4ZpBe0iCXy"
      },
      "cell_type": "markdown",
      "source": [
        "## Fix Makefile"
      ]
    },
    {
      "metadata": {
        "colab_type": "code",
        "id": "21DaSzPUY4JF",
        "colab": {}
      },
      "cell_type": "code",
      "source": [
        "os.chdir('/content/SSH/caffe-ssh')"
      ],
      "execution_count": 0,
      "outputs": []
    },
    {
      "metadata": {
        "colab_type": "code",
        "id": "RJUdBsq9XPxH",
        "colab": {}
      },
      "cell_type": "code",
      "source": [
        "os.rename('./Makefile.config.example', './Makefile.config')"
      ],
      "execution_count": 0,
      "outputs": []
    },
    {
      "metadata": {
        "colab_type": "code",
        "id": "KQldikmyY8ZU",
        "colab": {}
      },
      "cell_type": "code",
      "source": [
        "with open('./Makefile.config','r') as makefile:\n",
        "  lines = makefile.readlines()\n",
        "target_string_index = lines.index('INCLUDE_DIRS := $(PYTHON_INCLUDE) /usr/local/include\\n')\n",
        "lines[target_string_index] = 'INCLUDE_DIRS := $(PYTHON_INCLUDE) /usr/local/include /usr/include/hdf5/serial/\\n'\n",
        "with open('./Makefile.config','w') as makefile:\n",
        "  makefile.write(\"\".join(lines))"
      ],
      "execution_count": 0,
      "outputs": []
    },
    {
      "metadata": {
        "colab_type": "code",
        "id": "WHxfiNtEY8ft",
        "colab": {}
      },
      "cell_type": "code",
      "source": [
        "with open('./Makefile.config','r') as makefile:\n",
        "  lines = makefile.readlines()\n",
        "target_string_index = lines.index('USE_NCCL := 1\\n')\n",
        "lines[target_string_index] = 'USE_NCCL := 0\\n'\n",
        "with open('./Makefile.config','w') as makefile:\n",
        "  makefile.write(\"\".join(lines))"
      ],
      "execution_count": 0,
      "outputs": []
    },
    {
      "metadata": {
        "colab_type": "code",
        "id": "FjZOzD4pY8lA",
        "colab": {}
      },
      "cell_type": "code",
      "source": [
        "with open('./Makefile.config','r') as makefile:\n",
        "  lines = makefile.readlines()\n",
        "lines.remove('CUDA_ARCH := -gencode arch=compute_20,code=sm_20 \\\\\\n')\n",
        "lines.remove('\\t\\t-gencode arch=compute_20,code=sm_21 \\\\\\n')\n",
        "target_string_index = lines.index('\\t\\t-gencode arch=compute_30,code=sm_30 \\\\\\n')\n",
        "lines[target_string_index] = 'CUDA_ARCH := -gencode arch=compute_30,code=sm_30 \\\\\\n -gencode arch=compute_37,code=sm_37 \\\\\\n'\n",
        "with open('./Makefile.config','w') as makefile:\n",
        "  makefile.write(\"\".join(lines))"
      ],
      "execution_count": 0,
      "outputs": []
    },
    {
      "metadata": {
        "colab_type": "code",
        "id": "uFBWfi9VY8o1",
        "colab": {}
      },
      "cell_type": "code",
      "source": [
        "with open('./Makefile.config','r') as makefile:\n",
        "  lines = makefile.readlines()\n",
        "target_string_index = lines.index('# OPENCV_VERSION := 3\\n')\n",
        "lines[target_string_index] = 'OPENCV_VERSION := 3\\n'\n",
        "with open('./Makefile.config','w') as makefile:\n",
        "  makefile.write(\"\".join(lines))"
      ],
      "execution_count": 0,
      "outputs": []
    },
    {
      "metadata": {
        "colab_type": "code",
        "id": "2JHkyX-egof0",
        "colab": {}
      },
      "cell_type": "code",
      "source": [
        "with open('./Makefile.config','r') as makefile:\n",
        "  lines = makefile.readlines()\n",
        "target_string_index = lines.index('\\t\\t/usr/lib/python2.7/dist-packages/numpy/core/include\\n')\n",
        "lines[target_string_index] = '\\t\\t /usr/local/lib/python2.7/dist-packages/numpy/core/include\\n'\n",
        "with open('./Makefile.config','w') as makefile:\n",
        "  makefile.write(\"\".join(lines))"
      ],
      "execution_count": 0,
      "outputs": []
    },
    {
      "metadata": {
        "colab_type": "text",
        "id": "7FgL8JyQuPLe"
      },
      "cell_type": "markdown",
      "source": [
        "## Make all"
      ]
    },
    {
      "metadata": {
        "colab_type": "code",
        "id": "m7ylwyEkYRtc",
        "colab": {}
      },
      "cell_type": "code",
      "source": [
        "!make all"
      ],
      "execution_count": 0,
      "outputs": []
    },
    {
      "metadata": {
        "colab_type": "text",
        "id": "M7RjwJT0uR_Y"
      },
      "cell_type": "markdown",
      "source": [
        "## Make tests"
      ]
    },
    {
      "metadata": {
        "colab_type": "code",
        "id": "K0jpm8XwiNPS",
        "colab": {}
      },
      "cell_type": "code",
      "source": [
        "!make test"
      ],
      "execution_count": 0,
      "outputs": []
    },
    {
      "metadata": {
        "colab_type": "text",
        "id": "iTDgkDanuVly"
      },
      "cell_type": "markdown",
      "source": [
        "## Run tests"
      ]
    },
    {
      "metadata": {
        "colab_type": "code",
        "id": "G7dGMqnRuTwJ",
        "colab": {}
      },
      "cell_type": "code",
      "source": [
        "!make runtest"
      ],
      "execution_count": 0,
      "outputs": []
    },
    {
      "metadata": {
        "colab_type": "text",
        "id": "aj2jqGA5iUts"
      },
      "cell_type": "markdown",
      "source": [
        "## Make distribute"
      ]
    },
    {
      "metadata": {
        "colab_type": "code",
        "id": "iLEOOUwxs6Ch",
        "colab": {}
      },
      "cell_type": "code",
      "source": [
        "!make distribute"
      ],
      "execution_count": 0,
      "outputs": []
    },
    {
      "metadata": {
        "colab_type": "text",
        "id": "YtaiC7QiiYDl"
      },
      "cell_type": "markdown",
      "source": [
        "## Move distribute"
      ]
    },
    {
      "metadata": {
        "colab_type": "code",
        "id": "lYK2z0_4g-pA",
        "colab": {}
      },
      "cell_type": "code",
      "source": [
        "!cp -R /content/SSH/caffe-ssh/distribute/* /usr"
      ],
      "execution_count": 0,
      "outputs": []
    },
    {
      "metadata": {
        "colab_type": "text",
        "id": "GlXn7p9piiDA"
      },
      "cell_type": "markdown",
      "source": [
        "## Add path"
      ]
    },
    {
      "metadata": {
        "colab_type": "code",
        "id": "MWqAKLAt05fk",
        "colab": {}
      },
      "cell_type": "code",
      "source": [
        "import sys\n",
        "sys.path.append('/usr/python')"
      ],
      "execution_count": 0,
      "outputs": []
    },
    {
      "metadata": {
        "colab_type": "text",
        "id": "YXRgsyOaimJU"
      },
      "cell_type": "markdown",
      "source": [
        "## Make model"
      ]
    },
    {
      "metadata": {
        "colab_type": "code",
        "id": "gn3gJVMudSny",
        "colab": {}
      },
      "cell_type": "code",
      "source": [
        "os.chdir('/content/SSH')"
      ],
      "execution_count": 0,
      "outputs": []
    },
    {
      "metadata": {
        "colab_type": "code",
        "id": "HdQw0FmBdXRm",
        "colab": {}
      },
      "cell_type": "code",
      "source": [
        "!pip install -r requirements.txt"
      ],
      "execution_count": 0,
      "outputs": []
    },
    {
      "metadata": {
        "colab_type": "code",
        "id": "DzkFu7hpddyX",
        "colab": {}
      },
      "cell_type": "code",
      "source": [
        "os.chdir('/content/SSH/lib')"
      ],
      "execution_count": 0,
      "outputs": []
    },
    {
      "metadata": {
        "colab_type": "code",
        "id": "deavafmjdg3B",
        "colab": {}
      },
      "cell_type": "code",
      "source": [
        "!make"
      ],
      "execution_count": 0,
      "outputs": []
    },
    {
      "metadata": {
        "colab_type": "text",
        "id": "vS8LUF0Eisb0"
      },
      "cell_type": "markdown",
      "source": [
        "## Download models"
      ]
    },
    {
      "metadata": {
        "colab_type": "code",
        "id": "WhAr3j8AeAII",
        "colab": {}
      },
      "cell_type": "code",
      "source": [
        "os.chdir('/content/SSH')"
      ],
      "execution_count": 0,
      "outputs": []
    },
    {
      "metadata": {
        "colab_type": "code",
        "id": "5ViGyNTweDTp",
        "colab": {}
      },
      "cell_type": "code",
      "source": [
        "!bash scripts/download_ssh_model.sh"
      ],
      "execution_count": 0,
      "outputs": []
    },
    {
      "metadata": {
        "colab_type": "text",
        "id": "xNIq-xbNiuWo"
      },
      "cell_type": "markdown",
      "source": [
        "## Run"
      ]
    },
    {
      "metadata": {
        "colab_type": "code",
        "id": "FZ2Unt2UeIWE",
        "colab": {}
      },
      "cell_type": "code",
      "source": [
        "!python demo.py"
      ],
      "execution_count": 0,
      "outputs": []
    }
  ]
}